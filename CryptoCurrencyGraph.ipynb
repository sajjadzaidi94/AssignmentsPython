{
 "cells": [
  {
   "cell_type": "code",
   "execution_count": 32,
   "metadata": {},
   "outputs": [],
   "source": [
    "import requests\n",
    "import datetime\n",
    "import pandas as pd\n",
    "import matplotlib.pyplot as plt\n",
    "\n",
    "def price(sym, comp_sym, all_data=False, limit=100, aggregate=1, exchange='', timeframe='histominute'):\n",
    "    url = 'https://min-api.cryptocompare.com/data/{}?fsym={}&tsym={}&limit={}&aggregate={}' \\\n",
    "            .format(timeframe,sym.upper(),comp_sym.upper(),limit,aggregate)\n",
    "    if exchange:\n",
    "        url += '&e={}'.format(exchange)\n",
    "    page = requests.get(url)\n",
    "    data = page.json()\n",
    "    return data\n",
    "\n",
    "def daily_price_historical(symbol, comparison_symbol, all_data=True, limit=1, aggregate=1, exchange=''):\n",
    "    url = 'https://min-api.cryptocompare.com/data/histoday?fsym={}&tsym={}&limit={}&aggregate={}'\\\n",
    "            .format(symbol.upper(), comparison_symbol.upper(), limit, aggregate)\n",
    "    if exchange:\n",
    "        url += '&e={}'.format(exchange)\n",
    "    if all_data:\n",
    "        url += '&allData=true'\n",
    "    page = requests.get(url)\n",
    "    data = page.json()['Data']\n",
    "    df = pd.DataFrame(data)\n",
    "    df['timestamp'] = [datetime.datetime.fromtimestamp(d) for d in df.time]\n",
    "    return df\n",
    "\n",
    "def plotGraph():\n",
    "        print('Request Initiated ...')\n",
    "        data = daily_price_historical(symbol='BTC', comparison_symbol='PKR', all_data=True,exchange='')\n",
    "        print('Data Received, Ploting into a graph ...')\n",
    "        fg = plt.figure(figsize=(20, 10))\n",
    "        plt.plot(data.timestamp, data.high)\n",
    "        plt.title(symbol + ' To ' + comp_sym + ' Time Frequency = ' + timeframe, fontsize=24)\n",
    "        plt.ylabel('Price In ' + comp_sym, fontsize=18)\n",
    "        plt.xlabel('Year', fontsize=18)\n",
    "        plt.show()"
   ]
  },
  {
   "cell_type": "code",
   "execution_count": 33,
   "metadata": {},
   "outputs": [
    {
     "name": "stdout",
     "output_type": "stream",
     "text": [
      "Request Initiated ...\n",
      "Data Received, Ploting into a graph ...\n"
     ]
    },
    {
     "ename": "NameError",
     "evalue": "name 'symbol' is not defined",
     "output_type": "error",
     "traceback": [
      "\u001b[1;31m---------------------------------------------------------------------------\u001b[0m",
      "\u001b[1;31mNameError\u001b[0m                                 Traceback (most recent call last)",
      "\u001b[1;32m<ipython-input-33-ac38cbcd5b8e>\u001b[0m in \u001b[0;36m<module>\u001b[1;34m()\u001b[0m\n\u001b[1;32m----> 1\u001b[1;33m \u001b[0mplotGraph\u001b[0m\u001b[1;33m(\u001b[0m\u001b[1;33m)\u001b[0m\u001b[1;33m\u001b[0m\u001b[0m\n\u001b[0m",
      "\u001b[1;32m<ipython-input-32-7b60b571c373>\u001b[0m in \u001b[0;36mplotGraph\u001b[1;34m()\u001b[0m\n\u001b[0;32m     30\u001b[0m         \u001b[0mfg\u001b[0m \u001b[1;33m=\u001b[0m \u001b[0mplt\u001b[0m\u001b[1;33m.\u001b[0m\u001b[0mfigure\u001b[0m\u001b[1;33m(\u001b[0m\u001b[0mfigsize\u001b[0m\u001b[1;33m=\u001b[0m\u001b[1;33m(\u001b[0m\u001b[1;36m20\u001b[0m\u001b[1;33m,\u001b[0m \u001b[1;36m10\u001b[0m\u001b[1;33m)\u001b[0m\u001b[1;33m)\u001b[0m\u001b[1;33m\u001b[0m\u001b[0m\n\u001b[0;32m     31\u001b[0m         \u001b[0mplt\u001b[0m\u001b[1;33m.\u001b[0m\u001b[0mplot\u001b[0m\u001b[1;33m(\u001b[0m\u001b[0mdata\u001b[0m\u001b[1;33m.\u001b[0m\u001b[0mtimestamp\u001b[0m\u001b[1;33m,\u001b[0m \u001b[0mdata\u001b[0m\u001b[1;33m.\u001b[0m\u001b[0mhigh\u001b[0m\u001b[1;33m)\u001b[0m\u001b[1;33m\u001b[0m\u001b[0m\n\u001b[1;32m---> 32\u001b[1;33m         \u001b[0mplt\u001b[0m\u001b[1;33m.\u001b[0m\u001b[0mtitle\u001b[0m\u001b[1;33m(\u001b[0m\u001b[0msymbol\u001b[0m \u001b[1;33m+\u001b[0m \u001b[1;34m' To '\u001b[0m \u001b[1;33m+\u001b[0m \u001b[0mcomp_sym\u001b[0m \u001b[1;33m+\u001b[0m \u001b[1;34m' Time Frequency = '\u001b[0m \u001b[1;33m+\u001b[0m \u001b[0mtimeframe\u001b[0m\u001b[1;33m,\u001b[0m \u001b[0mfontsize\u001b[0m\u001b[1;33m=\u001b[0m\u001b[1;36m24\u001b[0m\u001b[1;33m)\u001b[0m\u001b[1;33m\u001b[0m\u001b[0m\n\u001b[0m\u001b[0;32m     33\u001b[0m         \u001b[0mplt\u001b[0m\u001b[1;33m.\u001b[0m\u001b[0mylabel\u001b[0m\u001b[1;33m(\u001b[0m\u001b[1;34m'Price In '\u001b[0m \u001b[1;33m+\u001b[0m \u001b[0mcomp_sym\u001b[0m\u001b[1;33m,\u001b[0m \u001b[0mfontsize\u001b[0m\u001b[1;33m=\u001b[0m\u001b[1;36m18\u001b[0m\u001b[1;33m)\u001b[0m\u001b[1;33m\u001b[0m\u001b[0m\n\u001b[0;32m     34\u001b[0m         \u001b[0mplt\u001b[0m\u001b[1;33m.\u001b[0m\u001b[0mxlabel\u001b[0m\u001b[1;33m(\u001b[0m\u001b[1;34m'Year'\u001b[0m\u001b[1;33m,\u001b[0m \u001b[0mfontsize\u001b[0m\u001b[1;33m=\u001b[0m\u001b[1;36m18\u001b[0m\u001b[1;33m)\u001b[0m\u001b[1;33m\u001b[0m\u001b[0m\n",
      "\u001b[1;31mNameError\u001b[0m: name 'symbol' is not defined"
     ]
    }
   ],
   "source": [
    "plotGraph()"
   ]
  },
  {
   "cell_type": "code",
   "execution_count": null,
   "metadata": {
    "collapsed": true
   },
   "outputs": [],
   "source": []
  }
 ],
 "metadata": {
  "kernelspec": {
   "display_name": "Python 3",
   "language": "python",
   "name": "python3"
  },
  "language_info": {
   "codemirror_mode": {
    "name": "ipython",
    "version": 3
   },
   "file_extension": ".py",
   "mimetype": "text/x-python",
   "name": "python",
   "nbconvert_exporter": "python",
   "pygments_lexer": "ipython3",
   "version": "3.6.3"
  }
 },
 "nbformat": 4,
 "nbformat_minor": 2
}
