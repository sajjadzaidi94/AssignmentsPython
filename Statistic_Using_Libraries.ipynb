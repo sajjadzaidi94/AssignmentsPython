{
 "cells": [
  {
   "cell_type": "code",
   "execution_count": 21,
   "metadata": {},
   "outputs": [
    {
     "name": "stdout",
     "output_type": "stream",
     "text": [
      "Mean of the above Number of list is: 3.3846153846153846\n",
      "\n",
      "Median of the above Number of list is: 2\n",
      "\n",
      "Mode of the above Number of list is: 2\n",
      "\n",
      "Standard Deviation of the above Number of list is: 2.3992520201950973\n",
      "\n",
      "Variance of the above Number of list is: 5.7564102564102555\n",
      "\n",
      "Mean using Numpy: 3.38461538462\n",
      "\n",
      "Median using Numpy: 2.0\n"
     ]
    }
   ],
   "source": [
    "import statistics\n",
    "import numpy as np\n",
    "\n",
    "number_list = [2,2,3,4,5,6,7,8,1,1,1,2,2]\n",
    "\n",
    "##Python Statistics Library\n",
    "mean = statistics.mean(number_list)\n",
    "print(\"Mean of the above Number of list is: \"+str(mean))\n",
    "\n",
    "median = statistics.median(number_list)\n",
    "print(\"\\nMedian of the above Number of list is: \"+str(median))\n",
    "\n",
    "mode = statistics.mode(number_list)\n",
    "print(\"\\nMode of the above Number of list is: \"+str(mode))\n",
    "\n",
    "stdev = statistics.stdev(number_list)\n",
    "print(\"\\nStandard Deviation of the above Number of list is: \"+str(stdev))\n",
    "\n",
    "variance = statistics.variance(number_list)\n",
    "print(\"\\nVariance of the above Number of list is: \"+str(variance))\n",
    "\n",
    "##Python Statistics Using Numpy Library\n",
    "mean = np.mean(number_list)\n",
    "print(\"\\nMean using Numpy: \"+str(mean))\n",
    "\n",
    "median = np.median(number_list)\n",
    "print(\"\\nMedian using Numpy: \"+str(median))\n"
   ]
  },
  {
   "cell_type": "code",
   "execution_count": null,
   "metadata": {},
   "outputs": [],
   "source": []
  },
  {
   "cell_type": "code",
   "execution_count": null,
   "metadata": {},
   "outputs": [],
   "source": []
  }
 ],
 "metadata": {
  "kernelspec": {
   "display_name": "Python 3",
   "language": "python",
   "name": "python3"
  },
  "language_info": {
   "codemirror_mode": {
    "name": "ipython",
    "version": 3
   },
   "file_extension": ".py",
   "mimetype": "text/x-python",
   "name": "python",
   "nbconvert_exporter": "python",
   "pygments_lexer": "ipython3",
   "version": "3.6.3"
  }
 },
 "nbformat": 4,
 "nbformat_minor": 2
}
