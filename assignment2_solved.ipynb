{
 "cells": [
  {
   "cell_type": "code",
   "execution_count": 4,
   "metadata": {},
   "outputs": [
    {
     "name": "stdout",
     "output_type": "stream",
     "text": [
      "verbing\n",
      " OK  got: 'hailing' expected: 'hailing'\n",
      " OK  got: 'swimingly' expected: 'swimingly'\n",
      " OK  got: 'do' expected: 'do'\n",
      "not_bad\n",
      " OK  got: 'This movie is good' expected: 'This movie is good'\n",
      " OK  got: 'This dinner is good!' expected: 'This dinner is good!'\n",
      " OK  got: 'This tea is not hot' expected: 'This tea is not hot'\n",
      " OK  got: \"It's bad yet not\" expected: \"It's bad yet not\"\n",
      "front_back\n",
      " OK  got: 'abxcdy' expected: 'abxcdy'\n",
      " OK  got: 'abcxydez' expected: 'abcxydez'\n",
      " OK  got: 'KitDontenut' expected: 'KitDontenut'\n"
     ]
    }
   ],
   "source": [
    "def verbing(s):\n",
    "  if s[-3:] == 'ing':\n",
    "     return s+'ly'\n",
    "  elif len(s) >= 3:\n",
    "        return s+'ing'\n",
    "  else:\n",
    "       if len(s) < 3:\n",
    "            return s\n",
    "\n",
    "def not_bad(s):\n",
    "  snot = s.find('not')\n",
    "  sbad = s.find('bad')\n",
    "\n",
    "  if sbad > snot:\n",
    "    s = s.replace(s[snot:(sbad+3)], 'good')\n",
    "\n",
    "  return s\n",
    "\n",
    "def front_back(a, b):\n",
    "  alength = len(a)\n",
    "  blength = len(b)\n",
    "\n",
    "  if alength % 2 == 0:\n",
    "    aindex = alength // 2\n",
    "  else:\n",
    "    aindex = (alength // 2) + 1\n",
    "\n",
    "  if blength % 2 == 0:\n",
    "    bindex = blength // 2\n",
    "  else:\n",
    "    bindex = (blength // 2) + 1\n",
    "\n",
    "  afront = a[0:aindex]\n",
    "  aback = a[aindex:]\n",
    "\n",
    "  bfront = b[0:bindex]\n",
    "  bback = b[bindex:]\n",
    "\n",
    "  return afront + bfront + aback + bback\n",
    "    \n",
    "def test(got, expected):\n",
    "  if got == expected:\n",
    "    prefix = ' OK '\n",
    "  else:\n",
    "    prefix = '  X '\n",
    "  print ('%s got: %s expected: %s' % (prefix, repr(got), repr(expected)))\n",
    "\n",
    "def main():\n",
    "  print ('verbing')\n",
    "  test(verbing('hail'), 'hailing')\n",
    "  test(verbing('swiming'), 'swimingly')\n",
    "  test(verbing('do'), 'do')\n",
    "\n",
    "  print\n",
    "  print ('not_bad')\n",
    "  test(not_bad('This movie is not so bad'), 'This movie is good')\n",
    "  test(not_bad('This dinner is not that bad!'), 'This dinner is good!')\n",
    "  test(not_bad('This tea is not hot'), 'This tea is not hot')\n",
    "  test(not_bad(\"It's bad yet not\"), \"It's bad yet not\")\n",
    "\n",
    "  print\n",
    "  print ('front_back')\n",
    "  test(front_back('abcd', 'xy'), 'abxcdy')\n",
    "  test(front_back('abcde', 'xyz'), 'abcxydez')\n",
    "  test(front_back('Kitten', 'Donut'), 'KitDontenut')\n",
    "\n",
    "if __name__ == '__main__':\n",
    "  main()"
   ]
  },
  {
   "cell_type": "code",
   "execution_count": null,
   "metadata": {},
   "outputs": [],
   "source": []
  }
 ],
 "metadata": {
  "kernelspec": {
   "display_name": "Python 3",
   "language": "python",
   "name": "python3"
  },
  "language_info": {
   "codemirror_mode": {
    "name": "ipython",
    "version": 3
   },
   "file_extension": ".py",
   "mimetype": "text/x-python",
   "name": "python",
   "nbconvert_exporter": "python",
   "pygments_lexer": "ipython3",
   "version": "3.6.2"
  }
 },
 "nbformat": 4,
 "nbformat_minor": 2
}
