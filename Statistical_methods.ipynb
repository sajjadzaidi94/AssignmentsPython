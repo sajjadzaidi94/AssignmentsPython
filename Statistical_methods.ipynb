{
 "cells": [
  {
   "cell_type": "code",
   "execution_count": 45,
   "metadata": {},
   "outputs": [],
   "source": [
    "numbers = [10,9,8,7,6,5,1,4,9,8,2,8,9,9,9,9]"
   ]
  },
  {
   "cell_type": "code",
   "execution_count": 48,
   "metadata": {},
   "outputs": [],
   "source": [
    "import math \n",
    "from collections import Counter\n",
    "def statiscal_methods(number_list):\n",
    "    result = []\n",
    "    print('The sum of ther numbers are: '+str(sum(number_list)))\n",
    "    print('Number of items present in the list are: '+str(len(number_list)))\n",
    "    mean = sum(number_list)/len(number_list)\n",
    "    print('Mean of the above list is: '+str(mean))\n",
    "    print('\\n')\n",
    "    \n",
    "    ##Variance\n",
    "    for x in number_list:\n",
    "        variance = sum([(x - mean) ** 2 for x in number_list]) / (len(number_list) - 1)\n",
    "    print('Variance of the given list is: '+str(variance))\n",
    "    print('\\n')\n",
    "    \n",
    "    ##Standard Deviation\n",
    "    sd = math.sqrt(variance)\n",
    "    print('Standard Deviation is: '+str(sd))\n",
    "    print('\\n')\n",
    "    \n",
    "    ##Median \n",
    "    sortedlist = sorted(number_list)\n",
    "    print(sortedlist)\n",
    "    lengthofthelist = len(sortedlist)\n",
    "    centerofthelist = lengthofthelist / 2\n",
    "    if len(sortedlist) % 2 == 0:\n",
    "        medianparties = []\n",
    "        medianparties = sortedlist[int(centerofthelist) -1 : int(centerofthelist) +1 ]\n",
    "        median = sum(medianparties)/2\n",
    "        print(\"Median of the Even Number List is: \"+str(median)) \n",
    "    else:\n",
    "        print(\"Median of the Odd Number List is: \"+str(sortedlist[int(centerofthelist)]))\n",
    "    print('\\n')\n",
    "    \n",
    "    ##Mode\n",
    "    counter = Counter(number_list)\n",
    "    max_count = max(counter.values())\n",
    "    mode = [k for k,v in counter.items() if v == max_count]\n",
    "    print(\"Mode of the Number List are: \"+str(mode))\n",
    "    "
   ]
  },
  {
   "cell_type": "code",
   "execution_count": 49,
   "metadata": {},
   "outputs": [
    {
     "name": "stdout",
     "output_type": "stream",
     "text": [
      "The sum of ther numbers are: 113\n",
      "Number of items present in the list are: 16\n",
      "Mean of the above list is: 7.0625\n",
      "\n",
      "\n",
      "Variance of the given list is: 7.395833333333333\n",
      "\n",
      "\n",
      "Standard Deviation is: 2.7195281453467866\n",
      "\n",
      "\n",
      "[1, 2, 4, 5, 6, 7, 8, 8, 8, 9, 9, 9, 9, 9, 9, 10]\n",
      "Median of the Even Number List is: 8.0\n",
      "\n",
      "\n",
      "Mode of the Number List are: [9]\n"
     ]
    }
   ],
   "source": [
    "statiscal_methods(numbers)"
   ]
  },
  {
   "cell_type": "code",
   "execution_count": null,
   "metadata": {},
   "outputs": [],
   "source": []
  },
  {
   "cell_type": "code",
   "execution_count": null,
   "metadata": {},
   "outputs": [],
   "source": []
  }
 ],
 "metadata": {
  "kernelspec": {
   "display_name": "Python 3",
   "language": "python",
   "name": "python3"
  },
  "language_info": {
   "codemirror_mode": {
    "name": "ipython",
    "version": 3
   },
   "file_extension": ".py",
   "mimetype": "text/x-python",
   "name": "python",
   "nbconvert_exporter": "python",
   "pygments_lexer": "ipython3",
   "version": "3.6.3"
  }
 },
 "nbformat": 4,
 "nbformat_minor": 2
}
